{
 "cells": [
  {
   "cell_type": "code",
   "execution_count": 29,
   "metadata": {},
   "outputs": [],
   "source": [
    "import numpy as np\n",
    "import scipy as sci\n",
    "import cv2\n",
    "from numpy import linalg"
   ]
  },
  {
   "cell_type": "code",
   "execution_count": 30,
   "metadata": {},
   "outputs": [],
   "source": [
    "#ファイルパスを入力してください\n",
    "dir1 = \"d:/images/2-1.JPG\"\n",
    "dir2 = \"d:/images/2-2.JPG\""
   ]
  },
  {
   "cell_type": "code",
   "execution_count": 31,
   "metadata": {},
   "outputs": [],
   "source": [
    "def get_points(img_dir1,img_dir2):\n",
    "    points1 = []\n",
    "    points2 = []\n",
    "\n",
    "    def OnMouseAction1(event,x,y,flags,param):\n",
    "\n",
    "        if event == cv2.EVENT_LBUTTONDOWN:\n",
    "            print(\"from camera1:(%s,%s)\"%(x,y))\n",
    "            points1.append([x,y])\n",
    "        elif event==cv2.EVENT_RBUTTONDOWN :\n",
    "            print(\"camera1 finish\")\n",
    "            cv2.destroyWindow(\"image1\")\n",
    "            \n",
    "    def OnMouseAction2(event,x,y,flags,param):\n",
    "\n",
    "        if event == cv2.EVENT_LBUTTONDOWN:\n",
    "            print(\"from camera2:(%s,%s)\"%(x,y))\n",
    "            points2.append([x,y])\n",
    "        elif event==cv2.EVENT_RBUTTONDOWN :\n",
    "            print(\"camera2 finish\")\n",
    "            cv2.destroyWindow(\"image2\")\n",
    "\n",
    "    img1 = cv2.imread(img_dir1)\n",
    "    img2 = cv2.imread(img_dir2)\n",
    "    cv2.namedWindow(\"image1\",cv2.WINDOW_NORMAL)\n",
    "    cv2.setMouseCallback('image1',OnMouseAction1)     \n",
    "    cv2.namedWindow(\"image2\",cv2.WINDOW_NORMAL)\n",
    "    cv2.setMouseCallback('image2',OnMouseAction2)\n",
    "    cv2.imshow('image1',img1)\n",
    "    cv2.imshow('image2',img2)\n",
    "    cv2.waitKey(80000)\n",
    "    \n",
    "         \n",
    "    \n",
    "    return (np.array(points1),np.array(points2))"
   ]
  },
  {
   "cell_type": "code",
   "execution_count": 32,
   "metadata": {},
   "outputs": [],
   "source": [
    "def get_mat_M(point1,point2,count):\n",
    "    M = np.zeros((count,9))\n",
    "    for i in range(count):\n",
    "        M[i,0] = point1[i,0] * point2[i,0]\n",
    "        M[i,1] = point1[i,1] * point2[i,0]\n",
    "        M[i,2] = point2[i,0]\n",
    "        M[i,3] = point1[i,0] * point2[i,1]\n",
    "        M[i,4] = point1[i,1] * point2[i,1]\n",
    "        M[i,5] = point2[i,1]\n",
    "        M[i,6] = point1[i,0]\n",
    "        M[i,7] = point1[i,1]\n",
    "        M[i,8] = 1.0\n",
    "    return M"
   ]
  },
  {
   "cell_type": "code",
   "execution_count": 33,
   "metadata": {},
   "outputs": [],
   "source": [
    "def etimate_F(M):\n",
    "    mattmat = np.dot(M.T,M)\n",
    "    eig,eig_vec = linalg.eig(mattmat)\n",
    "    F = eig_vec.T[-1].reshape(3,3)\n",
    "    print(eig)\n",
    "    print(F)\n",
    "    \n",
    "    _,eig_list_e1 = linalg.eig(np.dot(F.T,F))\n",
    "    e1 = eig_list_e1.T[-1]/eig_list_e1.T[-1][2]\n",
    "    _,eig_list_e2 = linalg.eig(np.dot(F,F.T))\n",
    "    e2 = eig_list_e2.T[-1]/eig_list_e2.T[-1][2]\n",
    "    print((e1,e2))\n",
    "    return(F,e1,e2)"
   ]
  },
  {
   "cell_type": "code",
   "execution_count": 34,
   "metadata": {},
   "outputs": [],
   "source": [
    "def draw_lines(point1,point2,e1,e2,dir1,dir2):\n",
    "    one = np.ones((len(point1),1),\"float\")\n",
    "    point1_ = np.concatenate((point1,one),axis=1)\n",
    "    point2_ = np.concatenate((point2,one),axis=1)\n",
    "    line1 = []\n",
    "    line2 = []\n",
    "    \n",
    "    for p1 , p2 in zip(point1_,point2_):\n",
    "        line1.append(np.cross(e1,p1))\n",
    "        line2.append(np.cross(e2,p2))\n",
    "        \n",
    "    i = 0\n",
    "    cv2.namedWindow('epilines1')\n",
    "    img1 = cv2.imread(dir1)\n",
    "    for l1,p1 in zip(line1,point1):\n",
    "        i += 1\n",
    "        aa = tuple(p1.tolist())\n",
    "        print(\"circle\")\n",
    "        cv2.circle(img1, aa, 15, (255,0,16), -1)\n",
    "        cv2.putText(img1,'%s'%i,(p1[0],p1[1]+10),cv2.FONT_HERSHEY_COMPLEX,3,(0,0,255),9)\n",
    "        print(\"lines\")\n",
    "        cv2.line(img1, (15, int(-l1[2] / l1[1])),(img1.shape[1], int(-(l1[2] + l1[0] * img1.shape[1]) / l1[1])),(0,255,0),5)\n",
    "    cv2.imshow('epilines1',img1)\n",
    "    cv2.imwrite(\"D:/2-1_lines.jpg\", img1)\n",
    "    cv2.waitKey(0)\n",
    "    \n",
    "    j = 0\n",
    "    cv2.namedWindow('epilines2')\n",
    "    img2 = cv2.imread(dir2)\n",
    "    for l2,p2 in zip(line2,point2):\n",
    "        j += 1\n",
    "        bb = tuple(p2.tolist())\n",
    "        cv2.circle(img2, bb, 15, (255,0,16), -1)\n",
    "        cv2.putText(img2,'%s'%j,(p2[0],p2[1]+10),cv2.FONT_HERSHEY_COMPLEX,3,(0,0,255),9)\n",
    "        cv2.line(img2, (0, int(-l2[2] / l2[1])),(img2.shape[1], int(-(l2[2] + l2[0] * img2.shape[1]) / l2[1])), (0,255,0),5)\n",
    "    cv2.imshow('epilines2',img2)\n",
    "    cv2.imwrite(\"D:/2-2_lines.jpg\", img2)\n",
    "    cv2.waitKey(0)\n"
   ]
  },
  {
   "cell_type": "code",
   "execution_count": null,
   "metadata": {},
   "outputs": [],
   "source": [
    "def draw_lines2(point1,point2,e1,e2,dir1,dir2):\n",
    "    one = np.ones((len(point1),1),\"float\")\n",
    "    point1_ = np.concatenate((point1,one),axis=1)\n",
    "    point2_ = np.concatenate((point2,one),axis=1)\n",
    "    line1 = []\n",
    "    line2 = []\n",
    "    \n",
    "    for p1 , p2 in zip(point1_,point2_):\n",
    "        line1.append(np.cross(e1,p1))\n",
    "        line2.append(np.cross(e2,p2))\n",
    "        \n",
    "    i = 0\n",
    "    cv2.namedWindow('epilines1')\n",
    "    img1 = cv2.imread(dir1)\n",
    "    for l1,p1 in zip(line1,point1):\n",
    "        i += 1\n",
    "        aa = tuple(p1.tolist())\n",
    "        print(\"circle\")\n",
    "        cv2.circle(img1, aa, 15, (0,255,16), -1)\n",
    "        cv2.putText(img1,'%s'%i,(p1[0],p1[1]+10),cv2.FONT_HERSHEY_COMPLEX,3,(255,0,0),9)\n",
    "        print(\"lines\")\n",
    "        cv2.line(img1, (15, int(-l1[2] / l1[1])),(img1.shape[1], int(-(l1[2] + l1[0] * img1.shape[1]) / l1[1])),(255,0,0),5)\n",
    "    cv2.imshow('epilines1',img1)\n",
    "    cv2.imwrite(\"D:/2-1_linesexp.jpg\", img1)\n",
    "    cv2.waitKey(0)\n",
    "    \n",
    "    j = 0\n",
    "    cv2.namedWindow('epilines2')\n",
    "    img2 = cv2.imread(dir2)\n",
    "    for l2,p2 in zip(line2,point2):\n",
    "        j += 1\n",
    "        bb = tuple(p2.tolist())\n",
    "        cv2.circle(img2, bb, 15, (0,255,16), -1)\n",
    "        cv2.putText(img2,'%s'%j,(p2[0],p2[1]+10),cv2.FONT_HERSHEY_COMPLEX,3,(255,0,0),9)\n",
    "        cv2.line(img2, (0, int(-l2[2] / l2[1])),(img2.shape[1], int(-(l2[2] + l2[0] * img2.shape[1]) / l2[1])), (255,0,0),5)\n",
    "    cv2.imshow('epilines2',img2)\n",
    "    cv2.imwrite(\"D:/2-2_linesexp.jpg\", img2)\n",
    "    cv2.waitKey(0)\n"
   ]
  },
  {
   "cell_type": "code",
   "execution_count": 41,
   "metadata": {},
   "outputs": [],
   "source": [
    "#ここから\n",
    "a,b = get_points(dir1,dir2)"
   ]
  },
  {
   "cell_type": "code",
   "execution_count": 36,
   "metadata": {},
   "outputs": [],
   "source": [
    "M = get_mat_M(a,b,len(a))"
   ]
  },
  {
   "cell_type": "code",
   "execution_count": 39,
   "metadata": {},
   "outputs": [
    {
     "name": "stdout",
     "output_type": "stream",
     "text": [
      "[ 9.67168287e+14  1.40040933e+14  1.40953329e+12  3.19455643e+10\n",
      "  1.45635003e+05  1.47256312e+03  4.16905236e+02  4.73599556e+01\n",
      " -1.81577903e-12]\n",
      "[[ 1.75089241e-08  7.34015604e-08 -2.04670180e-04]\n",
      " [-9.20187045e-08  1.90270545e-07 -2.15295529e-04]\n",
      " [ 1.62928561e-04 -6.13113160e-04  9.99999755e-01]]\n",
      "(array([-1.26489484e+03,  1.29488699e+03,  1.00000000e+00]), array([-2.75579597e+04,  3.08426741e+04,  1.00000000e+00]))\n",
      "circle\n",
      "lines\n",
      "circle\n",
      "lines\n",
      "circle\n",
      "lines\n",
      "circle\n",
      "lines\n",
      "circle\n",
      "lines\n",
      "circle\n",
      "lines\n",
      "circle\n",
      "lines\n",
      "circle\n",
      "lines\n"
     ]
    }
   ],
   "source": [
    "F,e1,e2 = etimate_F(M)\n",
    "draw_lines(a,b,e1,e2,dir1,dir2)"
   ]
  },
  {
   "cell_type": "code",
   "execution_count": 26,
   "metadata": {},
   "outputs": [],
   "source": [
    "#ランク修正\n",
    "U,sigma,VT = linalg.svd(F)\n",
    "sigma_mat = np.array([[sigma[0],0,0],[0,sigma[1],0],[0,0,0]])\n",
    "F_2 = np.dot(np.dot(U,sigma_mat),VT)"
   ]
  },
  {
   "cell_type": "code",
   "execution_count": 28,
   "metadata": {},
   "outputs": [
    {
     "data": {
      "text/plain": [
       "array([[-4.97935043e-08,  4.33984300e-07, -5.81036097e-04],\n",
       "       [-9.11996663e-08,  1.99805750e-07, -5.60078269e-03],\n",
       "       [-4.60424139e-04,  4.84880397e-03,  9.99972285e-01]])"
      ]
     },
     "execution_count": 28,
     "metadata": {},
     "output_type": "execute_result"
    }
   ],
   "source": [
    "F_2"
   ]
  }
 ],
 "metadata": {
  "kernelspec": {
   "display_name": "Python 3",
   "language": "python",
   "name": "python3"
  },
  "language_info": {
   "codemirror_mode": {
    "name": "ipython",
    "version": 3
   },
   "file_extension": ".py",
   "mimetype": "text/x-python",
   "name": "python",
   "nbconvert_exporter": "python",
   "pygments_lexer": "ipython3",
   "version": "3.6.7"
  }
 },
 "nbformat": 4,
 "nbformat_minor": 2
}
