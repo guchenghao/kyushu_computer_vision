{
 "cells": [
  {
   "cell_type": "code",
   "execution_count": 1,
   "metadata": {},
   "outputs": [],
   "source": [
    "import numpy as np\n",
    "from sympy import *\n",
    "from numpy import *\n",
    "def calF1F2FromFmat(e1,F,a1_=None,b1_=None,uc1_=None,vc1_=None,a2_=None,b2_=None,uc2_=None,vc2_=None):\n",
    "\n",
    "\n",
    "    t = Symbol(\"t\")\n",
    "    a1,b1,uc1,vc1 = symbols((\"a1,b1,uc1,vc1\"))\n",
    "    a2,b2,uc2,vc2 = symbols((\"a2,b2,uc2,vc2\"))\n",
    "#insert data\n",
    "    if a1_:\n",
    "        a1.evalf(subs={a1:a1_})\n",
    "    if b1_:\n",
    "        b1.evalf(subs={b1:b1_})\n",
    "        print(\"b1OK\")\n",
    "    if uc1_:\n",
    "        uc1.evalf(subs={uc1_:uc1_})\n",
    "    if vc1_:\n",
    "        vc1_.evalf(subs={vc1_:vc1_})\n",
    "        print(\"vc1OK\")\n",
    "    if a2_:\n",
    "        a2.evalf(subs={a2:a2_})\n",
    "    if b2_:\n",
    "        print(\"b2OK\")\n",
    "        b2.evalf(subs={b2:b2_})\n",
    "    if uc2_:\n",
    "        uc2.evalf(subs={uc2_:uc2_})\n",
    "    if vc2_:\n",
    "        print(\"vc2OK\")\n",
    "        vc2_.evalf(subs={vc2_:vc2_})\n",
    "\n",
    "    vect = np.array([1,t,0])\n",
    "    matA1 = np.array([[a1,0,uc1],[0,a1,vc1],[0,0,1]])\n",
    "    matA2 = np.array([[a2,0,uc2],[0,a2,vc2],[0,0,1]])\n",
    "\n",
    "    tmp1 = np.dot(matA1.T,np.cross(e1,vect))\n",
    "    tmp1 = np.dot(tmp1,tmp1)\n",
    "\n",
    "    tmp2 = np.dot(matA2.T,np.dot(F.T,vect))\n",
    "    tmp2 = np.dot(tmp2,tmp2)\n",
    "\n",
    "    collect_tmp1 = collect(expand(tmp1*t),t)\n",
    "    collect_tmp2 = collect(expand(tmp2*t),t)\n",
    "    print(\"k1-6 OK\")\n",
    "    k10 = collect_tmp1.coeff(t**1)\n",
    "    k11 = collect_tmp1.coeff(t**2)\n",
    "    k12 = collect_tmp1.coeff(t**3)\n",
    "    k20 = collect_tmp2.coeff(t**1)\n",
    "    k21 = collect_tmp2.coeff(t**2)\n",
    "    k22 = collect_tmp2.coeff(t**3)\n",
    "\n",
    "    eqn1 = k10*k21-k11*k20\n",
    "    eqn2 = k11*k22-k21*k12\n",
    "    print(\"expressOK\")\n",
    "    print(solve([eqn1,eqn2]))\n",
    "\n",
    "\n"
   ]
  },
  {
   "cell_type": "code",
   "execution_count": 2,
   "metadata": {},
   "outputs": [],
   "source": [
    "F = np.array([[-0.00165067, -0.00302917, \n",
    "  0.0224756], [0.0156798, -0.00798849, -0.209402], [0.00316947, \n",
    "  0.146741, -0.0588552]])"
   ]
  },
  {
   "cell_type": "code",
   "execution_count": 3,
   "metadata": {},
   "outputs": [],
   "source": [
    "_,eig_list_e1 = linalg.eig(np.dot(F.T,F))\n",
    "e1 = eig_list_e1.T[-1]/eig_list_e1.T[-1][2]"
   ]
  },
  {
   "cell_type": "code",
   "execution_count": 4,
   "metadata": {},
   "outputs": [
    {
     "name": "stdout",
     "output_type": "stream",
     "text": [
      "k1-6 OK\n",
      "expressOK\n"
     ]
    },
    {
     "ename": "KeyboardInterrupt",
     "evalue": "",
     "output_type": "error",
     "traceback": [
      "\u001b[0;31m---------------------------------------------------------------------------\u001b[0m",
      "\u001b[0;31mKeyboardInterrupt\u001b[0m                         Traceback (most recent call last)",
      "\u001b[1;32m/Users/guchenghao/kruppa1.ipynb Cell 4'\u001b[0m in \u001b[0;36m<cell line: 1>\u001b[0;34m()\u001b[0m\n\u001b[0;32m----> <a href='vscode-notebook-cell:/Users/guchenghao/kruppa1.ipynb#ch0000003?line=0'>1</a>\u001b[0m calF1F2FromFmat(e1,F,uc1_\u001b[39m=\u001b[39;49m\u001b[39m0.\u001b[39;49m,vc1_\u001b[39m=\u001b[39;49m\u001b[39m0.\u001b[39;49m,uc2_\u001b[39m=\u001b[39;49m\u001b[39m0.\u001b[39;49m,vc2_\u001b[39m=\u001b[39;49m\u001b[39m0.\u001b[39;49m)\n",
      "\u001b[1;32m/Users/guchenghao/kruppa1.ipynb Cell 1'\u001b[0m in \u001b[0;36mcalF1F2FromFmat\u001b[0;34m(e1, F, a1_, b1_, uc1_, vc1_, a2_, b2_, uc2_, vc2_)\u001b[0m\n\u001b[1;32m     <a href='vscode-notebook-cell:/Users/guchenghao/kruppa1.ipynb#ch0000000?line=52'>53</a>\u001b[0m eqn2 \u001b[39m=\u001b[39m k11\u001b[39m*\u001b[39mk22\u001b[39m-\u001b[39mk21\u001b[39m*\u001b[39mk12\n\u001b[1;32m     <a href='vscode-notebook-cell:/Users/guchenghao/kruppa1.ipynb#ch0000000?line=53'>54</a>\u001b[0m \u001b[39mprint\u001b[39m(\u001b[39m\"\u001b[39m\u001b[39mexpressOK\u001b[39m\u001b[39m\"\u001b[39m)\n\u001b[0;32m---> <a href='vscode-notebook-cell:/Users/guchenghao/kruppa1.ipynb#ch0000000?line=54'>55</a>\u001b[0m \u001b[39mprint\u001b[39m(solve([eqn1,eqn2]))\n",
      "File \u001b[0;32m~/opt/anaconda3/lib/python3.8/site-packages/sympy/solvers/solvers.py:1108\u001b[0m, in \u001b[0;36msolve\u001b[0;34m(f, *symbols, **flags)\u001b[0m\n\u001b[1;32m   <a href='file:///Users/guchenghao/opt/anaconda3/lib/python3.8/site-packages/sympy/solvers/solvers.py?line=1105'>1106</a>\u001b[0m     solution \u001b[39m=\u001b[39m _solve(f[\u001b[39m0\u001b[39m], \u001b[39m*\u001b[39msymbols, \u001b[39m*\u001b[39m\u001b[39m*\u001b[39mflags)\n\u001b[1;32m   <a href='file:///Users/guchenghao/opt/anaconda3/lib/python3.8/site-packages/sympy/solvers/solvers.py?line=1106'>1107</a>\u001b[0m \u001b[39melse\u001b[39;00m:\n\u001b[0;32m-> <a href='file:///Users/guchenghao/opt/anaconda3/lib/python3.8/site-packages/sympy/solvers/solvers.py?line=1107'>1108</a>\u001b[0m     solution \u001b[39m=\u001b[39m _solve_system(f, symbols, \u001b[39m*\u001b[39;49m\u001b[39m*\u001b[39;49mflags)\n\u001b[1;32m   <a href='file:///Users/guchenghao/opt/anaconda3/lib/python3.8/site-packages/sympy/solvers/solvers.py?line=1109'>1110</a>\u001b[0m \u001b[39m#\u001b[39;00m\n\u001b[1;32m   <a href='file:///Users/guchenghao/opt/anaconda3/lib/python3.8/site-packages/sympy/solvers/solvers.py?line=1110'>1111</a>\u001b[0m \u001b[39m# postprocessing\u001b[39;00m\n\u001b[1;32m   <a href='file:///Users/guchenghao/opt/anaconda3/lib/python3.8/site-packages/sympy/solvers/solvers.py?line=1111'>1112</a>\u001b[0m \u001b[39m###########################################################################\u001b[39;00m\n\u001b[1;32m   <a href='file:///Users/guchenghao/opt/anaconda3/lib/python3.8/site-packages/sympy/solvers/solvers.py?line=1112'>1113</a>\u001b[0m \u001b[39m# Restore masked-off objects\u001b[39;00m\n\u001b[1;32m   <a href='file:///Users/guchenghao/opt/anaconda3/lib/python3.8/site-packages/sympy/solvers/solvers.py?line=1113'>1114</a>\u001b[0m \u001b[39mif\u001b[39;00m non_inverts:\n",
      "File \u001b[0;32m~/opt/anaconda3/lib/python3.8/site-packages/sympy/solvers/solvers.py:1844\u001b[0m, in \u001b[0;36m_solve_system\u001b[0;34m(exprs, symbols, **flags)\u001b[0m\n\u001b[1;32m   <a href='file:///Users/guchenghao/opt/anaconda3/lib/python3.8/site-packages/sympy/solvers/solvers.py?line=1840'>1841</a>\u001b[0m \u001b[39mfor\u001b[39;00m syms \u001b[39min\u001b[39;00m subsets(free, \u001b[39mlen\u001b[39m(polys)):\n\u001b[1;32m   <a href='file:///Users/guchenghao/opt/anaconda3/lib/python3.8/site-packages/sympy/solvers/solvers.py?line=1841'>1842</a>\u001b[0m     \u001b[39mtry\u001b[39;00m:\n\u001b[1;32m   <a href='file:///Users/guchenghao/opt/anaconda3/lib/python3.8/site-packages/sympy/solvers/solvers.py?line=1842'>1843</a>\u001b[0m         \u001b[39m# returns [] or list of tuples of solutions for syms\u001b[39;00m\n\u001b[0;32m-> <a href='file:///Users/guchenghao/opt/anaconda3/lib/python3.8/site-packages/sympy/solvers/solvers.py?line=1843'>1844</a>\u001b[0m         res \u001b[39m=\u001b[39m solve_poly_system(polys, \u001b[39m*\u001b[39;49msyms)\n\u001b[1;32m   <a href='file:///Users/guchenghao/opt/anaconda3/lib/python3.8/site-packages/sympy/solvers/solvers.py?line=1844'>1845</a>\u001b[0m         \u001b[39mif\u001b[39;00m res:\n\u001b[1;32m   <a href='file:///Users/guchenghao/opt/anaconda3/lib/python3.8/site-packages/sympy/solvers/solvers.py?line=1845'>1846</a>\u001b[0m             \u001b[39mfor\u001b[39;00m r \u001b[39min\u001b[39;00m res:\n",
      "File \u001b[0;32m~/opt/anaconda3/lib/python3.8/site-packages/sympy/solvers/polysys.py:60\u001b[0m, in \u001b[0;36msolve_poly_system\u001b[0;34m(seq, *gens, **args)\u001b[0m\n\u001b[1;32m     <a href='file:///Users/guchenghao/opt/anaconda3/lib/python3.8/site-packages/sympy/solvers/polysys.py?line=57'>58</a>\u001b[0m \u001b[39mif\u001b[39;00m \u001b[39mall\u001b[39m(i \u001b[39m<\u001b[39m\u001b[39m=\u001b[39m \u001b[39m2\u001b[39m \u001b[39mfor\u001b[39;00m i \u001b[39min\u001b[39;00m f\u001b[39m.\u001b[39mdegree_list() \u001b[39m+\u001b[39m g\u001b[39m.\u001b[39mdegree_list()):\n\u001b[1;32m     <a href='file:///Users/guchenghao/opt/anaconda3/lib/python3.8/site-packages/sympy/solvers/polysys.py?line=58'>59</a>\u001b[0m     \u001b[39mtry\u001b[39;00m:\n\u001b[0;32m---> <a href='file:///Users/guchenghao/opt/anaconda3/lib/python3.8/site-packages/sympy/solvers/polysys.py?line=59'>60</a>\u001b[0m         \u001b[39mreturn\u001b[39;00m solve_biquadratic(f, g, opt)\n\u001b[1;32m     <a href='file:///Users/guchenghao/opt/anaconda3/lib/python3.8/site-packages/sympy/solvers/polysys.py?line=60'>61</a>\u001b[0m     \u001b[39mexcept\u001b[39;00m SolveFailed:\n\u001b[1;32m     <a href='file:///Users/guchenghao/opt/anaconda3/lib/python3.8/site-packages/sympy/solvers/polysys.py?line=61'>62</a>\u001b[0m         \u001b[39mpass\u001b[39;00m\n",
      "File \u001b[0;32m~/opt/anaconda3/lib/python3.8/site-packages/sympy/solvers/polysys.py:124\u001b[0m, in \u001b[0;36msolve_biquadratic\u001b[0;34m(f, g, opt)\u001b[0m\n\u001b[1;32m    <a href='file:///Users/guchenghao/opt/anaconda3/lib/python3.8/site-packages/sympy/solvers/polysys.py?line=120'>121</a>\u001b[0m p_roots \u001b[39m=\u001b[39m [rcollect(expr, y) \u001b[39mfor\u001b[39;00m expr \u001b[39min\u001b[39;00m roots(p)\u001b[39m.\u001b[39mkeys()]\n\u001b[1;32m    <a href='file:///Users/guchenghao/opt/anaconda3/lib/python3.8/site-packages/sympy/solvers/polysys.py?line=122'>123</a>\u001b[0m q \u001b[39m=\u001b[39m q\u001b[39m.\u001b[39mltrim(\u001b[39m-\u001b[39m\u001b[39m1\u001b[39m)\n\u001b[0;32m--> <a href='file:///Users/guchenghao/opt/anaconda3/lib/python3.8/site-packages/sympy/solvers/polysys.py?line=123'>124</a>\u001b[0m q_roots \u001b[39m=\u001b[39m \u001b[39mlist\u001b[39m(roots(q)\u001b[39m.\u001b[39mkeys())\n\u001b[1;32m    <a href='file:///Users/guchenghao/opt/anaconda3/lib/python3.8/site-packages/sympy/solvers/polysys.py?line=125'>126</a>\u001b[0m solutions \u001b[39m=\u001b[39m []\n\u001b[1;32m    <a href='file:///Users/guchenghao/opt/anaconda3/lib/python3.8/site-packages/sympy/solvers/polysys.py?line=127'>128</a>\u001b[0m \u001b[39mfor\u001b[39;00m q_root \u001b[39min\u001b[39;00m q_roots:\n",
      "File \u001b[0;32m~/opt/anaconda3/lib/python3.8/site-packages/sympy/polys/polyroots.py:1051\u001b[0m, in \u001b[0;36mroots\u001b[0;34m(f, auto, cubics, trig, quartics, quintics, multiple, filter, predicate, *gens, **flags)\u001b[0m\n\u001b[1;32m   <a href='file:///Users/guchenghao/opt/anaconda3/lib/python3.8/site-packages/sympy/polys/polyroots.py?line=1048'>1049</a>\u001b[0m             \u001b[39melse\u001b[39;00m:\n\u001b[1;32m   <a href='file:///Users/guchenghao/opt/anaconda3/lib/python3.8/site-packages/sympy/polys/polyroots.py?line=1049'>1050</a>\u001b[0m                 \u001b[39mfor\u001b[39;00m currentfactor, k \u001b[39min\u001b[39;00m factors:\n\u001b[0;32m-> <a href='file:///Users/guchenghao/opt/anaconda3/lib/python3.8/site-packages/sympy/polys/polyroots.py?line=1050'>1051</a>\u001b[0m                     \u001b[39mfor\u001b[39;00m r \u001b[39min\u001b[39;00m _try_heuristics(Poly(currentfactor, f\u001b[39m.\u001b[39;49mgen, field\u001b[39m=\u001b[39;49m\u001b[39mTrue\u001b[39;49;00m)):\n\u001b[1;32m   <a href='file:///Users/guchenghao/opt/anaconda3/lib/python3.8/site-packages/sympy/polys/polyroots.py?line=1051'>1052</a>\u001b[0m                         _update_dict(result, zeros, r, k)\n\u001b[1;32m   <a href='file:///Users/guchenghao/opt/anaconda3/lib/python3.8/site-packages/sympy/polys/polyroots.py?line=1053'>1054</a>\u001b[0m \u001b[39mif\u001b[39;00m coeff \u001b[39mis\u001b[39;00m \u001b[39mnot\u001b[39;00m S\u001b[39m.\u001b[39mOne:\n",
      "File \u001b[0;32m~/opt/anaconda3/lib/python3.8/site-packages/sympy/polys/polyroots.py:983\u001b[0m, in \u001b[0;36mroots.<locals>._try_heuristics\u001b[0;34m(f)\u001b[0m\n\u001b[1;32m    <a href='file:///Users/guchenghao/opt/anaconda3/lib/python3.8/site-packages/sympy/polys/polyroots.py?line=980'>981</a>\u001b[0m     result \u001b[39m+\u001b[39m\u001b[39m=\u001b[39m roots_cubic(f, trig\u001b[39m=\u001b[39mtrig)\n\u001b[1;32m    <a href='file:///Users/guchenghao/opt/anaconda3/lib/python3.8/site-packages/sympy/polys/polyroots.py?line=981'>982</a>\u001b[0m \u001b[39melif\u001b[39;00m n \u001b[39m==\u001b[39m \u001b[39m4\u001b[39m \u001b[39mand\u001b[39;00m quartics:\n\u001b[0;32m--> <a href='file:///Users/guchenghao/opt/anaconda3/lib/python3.8/site-packages/sympy/polys/polyroots.py?line=982'>983</a>\u001b[0m     result \u001b[39m+\u001b[39m\u001b[39m=\u001b[39m roots_quartic(f)\n\u001b[1;32m    <a href='file:///Users/guchenghao/opt/anaconda3/lib/python3.8/site-packages/sympy/polys/polyroots.py?line=983'>984</a>\u001b[0m \u001b[39melif\u001b[39;00m n \u001b[39m==\u001b[39m \u001b[39m5\u001b[39m \u001b[39mand\u001b[39;00m quintics:\n\u001b[1;32m    <a href='file:///Users/guchenghao/opt/anaconda3/lib/python3.8/site-packages/sympy/polys/polyroots.py?line=984'>985</a>\u001b[0m     result \u001b[39m+\u001b[39m\u001b[39m=\u001b[39m roots_quintic(f)\n",
      "File \u001b[0;32m~/opt/anaconda3/lib/python3.8/site-packages/sympy/polys/polyroots.py:321\u001b[0m, in \u001b[0;36mroots_quartic\u001b[0;34m(f)\u001b[0m\n\u001b[1;32m    <a href='file:///Users/guchenghao/opt/anaconda3/lib/python3.8/site-packages/sympy/polys/polyroots.py?line=317'>318</a>\u001b[0m     \u001b[39mreturn\u001b[39;00m [tmp \u001b[39m-\u001b[39m aon4 \u001b[39mfor\u001b[39;00m tmp \u001b[39min\u001b[39;00m y]\n\u001b[1;32m    <a href='file:///Users/guchenghao/opt/anaconda3/lib/python3.8/site-packages/sympy/polys/polyroots.py?line=318'>319</a>\u001b[0m \u001b[39melse\u001b[39;00m:\n\u001b[1;32m    <a href='file:///Users/guchenghao/opt/anaconda3/lib/python3.8/site-packages/sympy/polys/polyroots.py?line=319'>320</a>\u001b[0m     \u001b[39m# Descartes-Euler method, see [7]\u001b[39;00m\n\u001b[0;32m--> <a href='file:///Users/guchenghao/opt/anaconda3/lib/python3.8/site-packages/sympy/polys/polyroots.py?line=320'>321</a>\u001b[0m     sols \u001b[39m=\u001b[39m _roots_quartic_euler(e, f, g, aon4)\n\u001b[1;32m    <a href='file:///Users/guchenghao/opt/anaconda3/lib/python3.8/site-packages/sympy/polys/polyroots.py?line=321'>322</a>\u001b[0m     \u001b[39mif\u001b[39;00m sols:\n\u001b[1;32m    <a href='file:///Users/guchenghao/opt/anaconda3/lib/python3.8/site-packages/sympy/polys/polyroots.py?line=322'>323</a>\u001b[0m         \u001b[39mreturn\u001b[39;00m sols\n",
      "File \u001b[0;32m~/opt/anaconda3/lib/python3.8/site-packages/sympy/polys/polyroots.py:227\u001b[0m, in \u001b[0;36m_roots_quartic_euler\u001b[0;34m(p, q, r, a)\u001b[0m\n\u001b[1;32m    <a href='file:///Users/guchenghao/opt/anaconda3/lib/python3.8/site-packages/sympy/polys/polyroots.py?line=224'>225</a>\u001b[0m x \u001b[39m=\u001b[39m Dummy(\u001b[39m'\u001b[39m\u001b[39mx\u001b[39m\u001b[39m'\u001b[39m)\n\u001b[1;32m    <a href='file:///Users/guchenghao/opt/anaconda3/lib/python3.8/site-packages/sympy/polys/polyroots.py?line=225'>226</a>\u001b[0m eq \u001b[39m=\u001b[39m \u001b[39m64\u001b[39m\u001b[39m*\u001b[39mx\u001b[39m*\u001b[39m\u001b[39m*\u001b[39m\u001b[39m3\u001b[39m \u001b[39m+\u001b[39m \u001b[39m32\u001b[39m\u001b[39m*\u001b[39mp\u001b[39m*\u001b[39mx\u001b[39m*\u001b[39m\u001b[39m*\u001b[39m\u001b[39m2\u001b[39m \u001b[39m+\u001b[39m (\u001b[39m4\u001b[39m\u001b[39m*\u001b[39mp\u001b[39m*\u001b[39m\u001b[39m*\u001b[39m\u001b[39m2\u001b[39m \u001b[39m-\u001b[39m \u001b[39m16\u001b[39m\u001b[39m*\u001b[39mr)\u001b[39m*\u001b[39mx \u001b[39m-\u001b[39m q\u001b[39m*\u001b[39m\u001b[39m*\u001b[39m\u001b[39m2\u001b[39m\n\u001b[0;32m--> <a href='file:///Users/guchenghao/opt/anaconda3/lib/python3.8/site-packages/sympy/polys/polyroots.py?line=226'>227</a>\u001b[0m xsols \u001b[39m=\u001b[39m \u001b[39mlist\u001b[39m(roots(Poly(eq, x), cubics\u001b[39m=\u001b[39m\u001b[39mFalse\u001b[39;00m)\u001b[39m.\u001b[39mkeys())\n\u001b[1;32m    <a href='file:///Users/guchenghao/opt/anaconda3/lib/python3.8/site-packages/sympy/polys/polyroots.py?line=227'>228</a>\u001b[0m xsols \u001b[39m=\u001b[39m [sol \u001b[39mfor\u001b[39;00m sol \u001b[39min\u001b[39;00m xsols \u001b[39mif\u001b[39;00m sol\u001b[39m.\u001b[39mis_rational \u001b[39mand\u001b[39;00m sol\u001b[39m.\u001b[39mis_nonzero]\n\u001b[1;32m    <a href='file:///Users/guchenghao/opt/anaconda3/lib/python3.8/site-packages/sympy/polys/polyroots.py?line=228'>229</a>\u001b[0m \u001b[39mif\u001b[39;00m \u001b[39mnot\u001b[39;00m xsols:\n",
      "File \u001b[0;32m~/opt/anaconda3/lib/python3.8/site-packages/sympy/polys/polytools.py:181\u001b[0m, in \u001b[0;36mPoly.__new__\u001b[0;34m(cls, rep, *gens, **args)\u001b[0m\n\u001b[1;32m    <a href='file:///Users/guchenghao/opt/anaconda3/lib/python3.8/site-packages/sympy/polys/polytools.py?line=178'>179</a>\u001b[0m     \u001b[39mreturn\u001b[39;00m \u001b[39mcls\u001b[39m\u001b[39m.\u001b[39m_from_poly(rep, opt)\n\u001b[1;32m    <a href='file:///Users/guchenghao/opt/anaconda3/lib/python3.8/site-packages/sympy/polys/polytools.py?line=179'>180</a>\u001b[0m \u001b[39melse\u001b[39;00m:\n\u001b[0;32m--> <a href='file:///Users/guchenghao/opt/anaconda3/lib/python3.8/site-packages/sympy/polys/polytools.py?line=180'>181</a>\u001b[0m     \u001b[39mreturn\u001b[39;00m \u001b[39mcls\u001b[39;49m\u001b[39m.\u001b[39;49m_from_expr(rep, opt)\n",
      "File \u001b[0;32m~/opt/anaconda3/lib/python3.8/site-packages/sympy/polys/polytools.py:310\u001b[0m, in \u001b[0;36mPoly._from_expr\u001b[0;34m(cls, rep, opt)\u001b[0m\n\u001b[1;32m    <a href='file:///Users/guchenghao/opt/anaconda3/lib/python3.8/site-packages/sympy/polys/polytools.py?line=306'>307</a>\u001b[0m \u001b[39m@classmethod\u001b[39m\n\u001b[1;32m    <a href='file:///Users/guchenghao/opt/anaconda3/lib/python3.8/site-packages/sympy/polys/polytools.py?line=307'>308</a>\u001b[0m \u001b[39mdef\u001b[39;00m \u001b[39m_from_expr\u001b[39m(\u001b[39mcls\u001b[39m, rep, opt):\n\u001b[1;32m    <a href='file:///Users/guchenghao/opt/anaconda3/lib/python3.8/site-packages/sympy/polys/polytools.py?line=308'>309</a>\u001b[0m     \u001b[39m\"\"\"Construct a polynomial from an expression. \"\"\"\u001b[39;00m\n\u001b[0;32m--> <a href='file:///Users/guchenghao/opt/anaconda3/lib/python3.8/site-packages/sympy/polys/polytools.py?line=309'>310</a>\u001b[0m     rep, opt \u001b[39m=\u001b[39m _dict_from_expr(rep, opt)\n\u001b[1;32m    <a href='file:///Users/guchenghao/opt/anaconda3/lib/python3.8/site-packages/sympy/polys/polytools.py?line=310'>311</a>\u001b[0m     \u001b[39mreturn\u001b[39;00m \u001b[39mcls\u001b[39m\u001b[39m.\u001b[39m_from_dict(rep, opt)\n",
      "File \u001b[0;32m~/opt/anaconda3/lib/python3.8/site-packages/sympy/polys/polyutils.py:368\u001b[0m, in \u001b[0;36m_dict_from_expr\u001b[0;34m(expr, opt)\u001b[0m\n\u001b[1;32m    <a href='file:///Users/guchenghao/opt/anaconda3/lib/python3.8/site-packages/sympy/polys/polyutils.py?line=364'>365</a>\u001b[0m         expr \u001b[39m=\u001b[39m expand_mul(expr)\n\u001b[1;32m    <a href='file:///Users/guchenghao/opt/anaconda3/lib/python3.8/site-packages/sympy/polys/polyutils.py?line=366'>367</a>\u001b[0m \u001b[39mif\u001b[39;00m opt\u001b[39m.\u001b[39mgens:\n\u001b[0;32m--> <a href='file:///Users/guchenghao/opt/anaconda3/lib/python3.8/site-packages/sympy/polys/polyutils.py?line=367'>368</a>\u001b[0m     rep, gens \u001b[39m=\u001b[39m _dict_from_expr_if_gens(expr, opt)\n\u001b[1;32m    <a href='file:///Users/guchenghao/opt/anaconda3/lib/python3.8/site-packages/sympy/polys/polyutils.py?line=368'>369</a>\u001b[0m \u001b[39melse\u001b[39;00m:\n\u001b[1;32m    <a href='file:///Users/guchenghao/opt/anaconda3/lib/python3.8/site-packages/sympy/polys/polyutils.py?line=369'>370</a>\u001b[0m     rep, gens \u001b[39m=\u001b[39m _dict_from_expr_no_gens(expr, opt)\n",
      "File \u001b[0;32m~/opt/anaconda3/lib/python3.8/site-packages/sympy/polys/polyutils.py:307\u001b[0m, in \u001b[0;36m_dict_from_expr_if_gens\u001b[0;34m(expr, opt)\u001b[0m\n\u001b[1;32m    <a href='file:///Users/guchenghao/opt/anaconda3/lib/python3.8/site-packages/sympy/polys/polyutils.py?line=304'>305</a>\u001b[0m \u001b[39mdef\u001b[39;00m \u001b[39m_dict_from_expr_if_gens\u001b[39m(expr, opt):\n\u001b[1;32m    <a href='file:///Users/guchenghao/opt/anaconda3/lib/python3.8/site-packages/sympy/polys/polyutils.py?line=305'>306</a>\u001b[0m     \u001b[39m\"\"\"Transform an expression into a multinomial form given generators. \"\"\"\u001b[39;00m\n\u001b[0;32m--> <a href='file:///Users/guchenghao/opt/anaconda3/lib/python3.8/site-packages/sympy/polys/polyutils.py?line=306'>307</a>\u001b[0m     (poly,), gens \u001b[39m=\u001b[39m _parallel_dict_from_expr_if_gens((expr,), opt)\n\u001b[1;32m    <a href='file:///Users/guchenghao/opt/anaconda3/lib/python3.8/site-packages/sympy/polys/polyutils.py?line=307'>308</a>\u001b[0m     \u001b[39mreturn\u001b[39;00m poly, gens\n",
      "File \u001b[0;32m~/opt/anaconda3/lib/python3.8/site-packages/sympy/polys/polyutils.py:222\u001b[0m, in \u001b[0;36m_parallel_dict_from_expr_if_gens\u001b[0;34m(exprs, opt)\u001b[0m\n\u001b[1;32m    <a href='file:///Users/guchenghao/opt/anaconda3/lib/python3.8/site-packages/sympy/polys/polyutils.py?line=218'>219</a>\u001b[0m monom \u001b[39m=\u001b[39m \u001b[39mtuple\u001b[39m(monom)\n\u001b[1;32m    <a href='file:///Users/guchenghao/opt/anaconda3/lib/python3.8/site-packages/sympy/polys/polyutils.py?line=220'>221</a>\u001b[0m \u001b[39mif\u001b[39;00m monom \u001b[39min\u001b[39;00m poly:\n\u001b[0;32m--> <a href='file:///Users/guchenghao/opt/anaconda3/lib/python3.8/site-packages/sympy/polys/polyutils.py?line=221'>222</a>\u001b[0m     poly[monom] \u001b[39m+\u001b[39m\u001b[39m=\u001b[39m Mul(\u001b[39m*\u001b[39mcoeff)\n\u001b[1;32m    <a href='file:///Users/guchenghao/opt/anaconda3/lib/python3.8/site-packages/sympy/polys/polyutils.py?line=222'>223</a>\u001b[0m \u001b[39melse\u001b[39;00m:\n\u001b[1;32m    <a href='file:///Users/guchenghao/opt/anaconda3/lib/python3.8/site-packages/sympy/polys/polyutils.py?line=223'>224</a>\u001b[0m     poly[monom] \u001b[39m=\u001b[39m Mul(\u001b[39m*\u001b[39mcoeff)\n",
      "File \u001b[0;32m~/opt/anaconda3/lib/python3.8/site-packages/sympy/core/decorators.py:236\u001b[0m, in \u001b[0;36m_SympifyWrapper.make_wrapped.<locals>._func\u001b[0;34m(self, other)\u001b[0m\n\u001b[1;32m    <a href='file:///Users/guchenghao/opt/anaconda3/lib/python3.8/site-packages/sympy/core/decorators.py?line=233'>234</a>\u001b[0m \u001b[39mif\u001b[39;00m \u001b[39mnot\u001b[39;00m \u001b[39misinstance\u001b[39m(other, expectedcls):\n\u001b[1;32m    <a href='file:///Users/guchenghao/opt/anaconda3/lib/python3.8/site-packages/sympy/core/decorators.py?line=234'>235</a>\u001b[0m     \u001b[39mreturn\u001b[39;00m retval\n\u001b[0;32m--> <a href='file:///Users/guchenghao/opt/anaconda3/lib/python3.8/site-packages/sympy/core/decorators.py?line=235'>236</a>\u001b[0m \u001b[39mreturn\u001b[39;00m func(\u001b[39mself\u001b[39;49m, other)\n",
      "File \u001b[0;32m~/opt/anaconda3/lib/python3.8/site-packages/sympy/core/decorators.py:106\u001b[0m, in \u001b[0;36mcall_highest_priority.<locals>.priority_decorator.<locals>.binary_op_wrapper\u001b[0;34m(self, other)\u001b[0m\n\u001b[1;32m    <a href='file:///Users/guchenghao/opt/anaconda3/lib/python3.8/site-packages/sympy/core/decorators.py?line=103'>104</a>\u001b[0m         \u001b[39mif\u001b[39;00m f \u001b[39mis\u001b[39;00m \u001b[39mnot\u001b[39;00m \u001b[39mNone\u001b[39;00m:\n\u001b[1;32m    <a href='file:///Users/guchenghao/opt/anaconda3/lib/python3.8/site-packages/sympy/core/decorators.py?line=104'>105</a>\u001b[0m             \u001b[39mreturn\u001b[39;00m f(\u001b[39mself\u001b[39m)\n\u001b[0;32m--> <a href='file:///Users/guchenghao/opt/anaconda3/lib/python3.8/site-packages/sympy/core/decorators.py?line=105'>106</a>\u001b[0m \u001b[39mreturn\u001b[39;00m func(\u001b[39mself\u001b[39;49m, other)\n",
      "File \u001b[0;32m~/opt/anaconda3/lib/python3.8/site-packages/sympy/core/expr.py:192\u001b[0m, in \u001b[0;36mExpr.__add__\u001b[0;34m(self, other)\u001b[0m\n\u001b[1;32m    <a href='file:///Users/guchenghao/opt/anaconda3/lib/python3.8/site-packages/sympy/core/expr.py?line=188'>189</a>\u001b[0m \u001b[39m@sympify_return\u001b[39m([(\u001b[39m'\u001b[39m\u001b[39mother\u001b[39m\u001b[39m'\u001b[39m, \u001b[39m'\u001b[39m\u001b[39mExpr\u001b[39m\u001b[39m'\u001b[39m)], \u001b[39mNotImplemented\u001b[39m)\n\u001b[1;32m    <a href='file:///Users/guchenghao/opt/anaconda3/lib/python3.8/site-packages/sympy/core/expr.py?line=189'>190</a>\u001b[0m \u001b[39m@call_highest_priority\u001b[39m(\u001b[39m'\u001b[39m\u001b[39m__radd__\u001b[39m\u001b[39m'\u001b[39m)\n\u001b[1;32m    <a href='file:///Users/guchenghao/opt/anaconda3/lib/python3.8/site-packages/sympy/core/expr.py?line=190'>191</a>\u001b[0m \u001b[39mdef\u001b[39;00m \u001b[39m__add__\u001b[39m(\u001b[39mself\u001b[39m, other):\n\u001b[0;32m--> <a href='file:///Users/guchenghao/opt/anaconda3/lib/python3.8/site-packages/sympy/core/expr.py?line=191'>192</a>\u001b[0m     \u001b[39mreturn\u001b[39;00m Add(\u001b[39mself\u001b[39;49m, other)\n",
      "File \u001b[0;32m~/opt/anaconda3/lib/python3.8/site-packages/sympy/core/cache.py:70\u001b[0m, in \u001b[0;36m__cacheit.<locals>.func_wrapper.<locals>.wrapper\u001b[0;34m(*args, **kwargs)\u001b[0m\n\u001b[1;32m     <a href='file:///Users/guchenghao/opt/anaconda3/lib/python3.8/site-packages/sympy/core/cache.py?line=66'>67</a>\u001b[0m \u001b[39m@wraps\u001b[39m(func)\n\u001b[1;32m     <a href='file:///Users/guchenghao/opt/anaconda3/lib/python3.8/site-packages/sympy/core/cache.py?line=67'>68</a>\u001b[0m \u001b[39mdef\u001b[39;00m \u001b[39mwrapper\u001b[39m(\u001b[39m*\u001b[39margs, \u001b[39m*\u001b[39m\u001b[39m*\u001b[39mkwargs):\n\u001b[1;32m     <a href='file:///Users/guchenghao/opt/anaconda3/lib/python3.8/site-packages/sympy/core/cache.py?line=68'>69</a>\u001b[0m     \u001b[39mtry\u001b[39;00m:\n\u001b[0;32m---> <a href='file:///Users/guchenghao/opt/anaconda3/lib/python3.8/site-packages/sympy/core/cache.py?line=69'>70</a>\u001b[0m         retval \u001b[39m=\u001b[39m cfunc(\u001b[39m*\u001b[39;49margs, \u001b[39m*\u001b[39;49m\u001b[39m*\u001b[39;49mkwargs)\n\u001b[1;32m     <a href='file:///Users/guchenghao/opt/anaconda3/lib/python3.8/site-packages/sympy/core/cache.py?line=70'>71</a>\u001b[0m     \u001b[39mexcept\u001b[39;00m \u001b[39mTypeError\u001b[39;00m \u001b[39mas\u001b[39;00m e:\n\u001b[1;32m     <a href='file:///Users/guchenghao/opt/anaconda3/lib/python3.8/site-packages/sympy/core/cache.py?line=71'>72</a>\u001b[0m         \u001b[39mif\u001b[39;00m \u001b[39mnot\u001b[39;00m e\u001b[39m.\u001b[39margs \u001b[39mor\u001b[39;00m \u001b[39mnot\u001b[39;00m e\u001b[39m.\u001b[39margs[\u001b[39m0\u001b[39m]\u001b[39m.\u001b[39mstartswith(\u001b[39m'\u001b[39m\u001b[39munhashable type:\u001b[39m\u001b[39m'\u001b[39m):\n",
      "File \u001b[0;32m~/opt/anaconda3/lib/python3.8/site-packages/sympy/core/operations.py:98\u001b[0m, in \u001b[0;36mAssocOp.__new__\u001b[0;34m(cls, evaluate, _sympify, *args)\u001b[0m\n\u001b[1;32m     <a href='file:///Users/guchenghao/opt/anaconda3/lib/python3.8/site-packages/sympy/core/operations.py?line=94'>95</a>\u001b[0m \u001b[39mif\u001b[39;00m \u001b[39mlen\u001b[39m(args) \u001b[39m==\u001b[39m \u001b[39m1\u001b[39m:\n\u001b[1;32m     <a href='file:///Users/guchenghao/opt/anaconda3/lib/python3.8/site-packages/sympy/core/operations.py?line=95'>96</a>\u001b[0m     \u001b[39mreturn\u001b[39;00m args[\u001b[39m0\u001b[39m]\n\u001b[0;32m---> <a href='file:///Users/guchenghao/opt/anaconda3/lib/python3.8/site-packages/sympy/core/operations.py?line=97'>98</a>\u001b[0m c_part, nc_part, order_symbols \u001b[39m=\u001b[39m \u001b[39mcls\u001b[39;49m\u001b[39m.\u001b[39;49mflatten(args)\n\u001b[1;32m     <a href='file:///Users/guchenghao/opt/anaconda3/lib/python3.8/site-packages/sympy/core/operations.py?line=98'>99</a>\u001b[0m is_commutative \u001b[39m=\u001b[39m \u001b[39mnot\u001b[39;00m nc_part\n\u001b[1;32m    <a href='file:///Users/guchenghao/opt/anaconda3/lib/python3.8/site-packages/sympy/core/operations.py?line=99'>100</a>\u001b[0m obj \u001b[39m=\u001b[39m \u001b[39mcls\u001b[39m\u001b[39m.\u001b[39m_from_args(c_part \u001b[39m+\u001b[39m nc_part, is_commutative)\n",
      "File \u001b[0;32m~/opt/anaconda3/lib/python3.8/site-packages/sympy/core/add.py:307\u001b[0m, in \u001b[0;36mAdd.flatten\u001b[0;34m(cls, seq)\u001b[0m\n\u001b[1;32m    <a href='file:///Users/guchenghao/opt/anaconda3/lib/python3.8/site-packages/sympy/core/add.py?line=297'>298</a>\u001b[0m     s \u001b[39m=\u001b[39m o\n\u001b[1;32m    <a href='file:///Users/guchenghao/opt/anaconda3/lib/python3.8/site-packages/sympy/core/add.py?line=299'>300</a>\u001b[0m \u001b[39m# now we have:\u001b[39;00m\n\u001b[1;32m    <a href='file:///Users/guchenghao/opt/anaconda3/lib/python3.8/site-packages/sympy/core/add.py?line=300'>301</a>\u001b[0m \u001b[39m# o = c*s, where\u001b[39;00m\n\u001b[1;32m    <a href='file:///Users/guchenghao/opt/anaconda3/lib/python3.8/site-packages/sympy/core/add.py?line=301'>302</a>\u001b[0m \u001b[39m#\u001b[39;00m\n\u001b[0;32m   (...)\u001b[0m\n\u001b[1;32m    <a href='file:///Users/guchenghao/opt/anaconda3/lib/python3.8/site-packages/sympy/core/add.py?line=304'>305</a>\u001b[0m \u001b[39m# let's collect terms with the same s, so e.g.\u001b[39;00m\n\u001b[1;32m    <a href='file:///Users/guchenghao/opt/anaconda3/lib/python3.8/site-packages/sympy/core/add.py?line=305'>306</a>\u001b[0m \u001b[39m# 2*x**2 + 3*x**2  ->  5*x**2\u001b[39;00m\n\u001b[0;32m--> <a href='file:///Users/guchenghao/opt/anaconda3/lib/python3.8/site-packages/sympy/core/add.py?line=306'>307</a>\u001b[0m \u001b[39mif\u001b[39;00m s \u001b[39min\u001b[39;49;00m terms:\n\u001b[1;32m    <a href='file:///Users/guchenghao/opt/anaconda3/lib/python3.8/site-packages/sympy/core/add.py?line=307'>308</a>\u001b[0m     terms[s] \u001b[39m+\u001b[39m\u001b[39m=\u001b[39m c\n\u001b[1;32m    <a href='file:///Users/guchenghao/opt/anaconda3/lib/python3.8/site-packages/sympy/core/add.py?line=308'>309</a>\u001b[0m     \u001b[39mif\u001b[39;00m terms[s] \u001b[39mis\u001b[39;00m S\u001b[39m.\u001b[39mNaN \u001b[39mand\u001b[39;00m \u001b[39mnot\u001b[39;00m extra:\n\u001b[1;32m    <a href='file:///Users/guchenghao/opt/anaconda3/lib/python3.8/site-packages/sympy/core/add.py?line=309'>310</a>\u001b[0m         \u001b[39m# we know for sure the result will be nan\u001b[39;00m\n",
      "File \u001b[0;32m~/opt/anaconda3/lib/python3.8/site-packages/sympy/core/basic.py:153\u001b[0m, in \u001b[0;36mBasic.__hash__\u001b[0;34m(self)\u001b[0m\n\u001b[1;32m    <a href='file:///Users/guchenghao/opt/anaconda3/lib/python3.8/site-packages/sympy/core/basic.py?line=150'>151</a>\u001b[0m h \u001b[39m=\u001b[39m \u001b[39mself\u001b[39m\u001b[39m.\u001b[39m_mhash\n\u001b[1;32m    <a href='file:///Users/guchenghao/opt/anaconda3/lib/python3.8/site-packages/sympy/core/basic.py?line=151'>152</a>\u001b[0m \u001b[39mif\u001b[39;00m h \u001b[39mis\u001b[39;00m \u001b[39mNone\u001b[39;00m:\n\u001b[0;32m--> <a href='file:///Users/guchenghao/opt/anaconda3/lib/python3.8/site-packages/sympy/core/basic.py?line=152'>153</a>\u001b[0m     h \u001b[39m=\u001b[39m \u001b[39mhash\u001b[39m((\u001b[39mtype\u001b[39;49m(\u001b[39mself\u001b[39;49m)\u001b[39m.\u001b[39;49m\u001b[39m__name__\u001b[39;49m,) \u001b[39m+\u001b[39m \u001b[39mself\u001b[39m\u001b[39m.\u001b[39m_hashable_content())\n\u001b[1;32m    <a href='file:///Users/guchenghao/opt/anaconda3/lib/python3.8/site-packages/sympy/core/basic.py?line=153'>154</a>\u001b[0m     \u001b[39mself\u001b[39m\u001b[39m.\u001b[39m_mhash \u001b[39m=\u001b[39m h\n\u001b[1;32m    <a href='file:///Users/guchenghao/opt/anaconda3/lib/python3.8/site-packages/sympy/core/basic.py?line=154'>155</a>\u001b[0m \u001b[39mreturn\u001b[39;00m h\n",
      "\u001b[0;31mKeyboardInterrupt\u001b[0m: "
     ]
    }
   ],
   "source": [
    "calF1F2FromFmat(e1,F,uc1_=0.,vc1_=0.,uc2_=0.,vc2_=0.)"
   ]
  },
  {
   "cell_type": "code",
   "execution_count": 239,
   "metadata": {},
   "outputs": [
    {
     "data": {
      "text/latex": [
       "$\\displaystyle 5.1764350932 \\cdot 10^{-5} a_{1}^{2} a_{2}^{2} - 4.83969885066 \\cdot 10^{-5} a_{1}^{2} b_{2}^{2} + 5.1764350932 \\cdot 10^{-5} a_{1}^{2} uc_{2}^{2} + 6.86208379554 \\cdot 10^{-5} a_{1}^{2} uc_{2} vc_{2} - 0.00279226604888 a_{1}^{2} uc_{2} - 4.83969885066 \\cdot 10^{-5} a_{1}^{2} vc_{2}^{2} - 0.001819072601984 a_{1}^{2} vc_{2} + 0.0376514847296 a_{1}^{2} + 5.1764350932 \\cdot 10^{-5} a_{2}^{2} uc_{1}^{2} - 0.00049171225608 a_{2}^{2} uc_{1} vc_{1} + 0.00199327624734949 a_{2}^{2} uc_{1} - 5.31271882640341 \\cdot 10^{-5} a_{2}^{2} vc_{1} + 0.000214759803988549 a_{2}^{2} - 4.83969885066 \\cdot 10^{-5} b_{2}^{2} uc_{1}^{2} - 0.0001276319449602 b_{2}^{2} uc_{1} vc_{1} + 0.000504025810962726 b_{2}^{2} uc_{1} - 1.37900291980971 \\cdot 10^{-5} b_{2}^{2} vc_{1} + 5.50225856623577 \\cdot 10^{-5} b_{2}^{2} + 5.1764350932 \\cdot 10^{-5} uc_{1}^{2} uc_{2}^{2} + 6.86208379554 \\cdot 10^{-5} uc_{1}^{2} uc_{2} vc_{2} - 0.00279226604888 uc_{1}^{2} uc_{2} - 4.83969885066 \\cdot 10^{-5} uc_{1}^{2} vc_{2}^{2} - 0.001819072601984 uc_{1}^{2} vc_{2} + 0.0376514847296 uc_{1}^{2} - 0.00049171225608 uc_{1} uc_{2}^{2} vc_{1} + 0.00199327624734949 uc_{1} uc_{2}^{2} + 0.000501031702008 uc_{1} uc_{2} vc_{1} vc_{2} + 0.0262670518368 uc_{1} uc_{2} vc_{1} - 0.00200482879989577 uc_{1} uc_{2} vc_{2} - 0.106485780440372 uc_{1} uc_{2} - 0.0001276319449602 uc_{1} vc_{1} vc_{2}^{2} - 0.01338244626384 uc_{1} vc_{1} vc_{2} - 0.350793580832 uc_{1} vc_{1} + 0.000504025810962726 uc_{1} vc_{2}^{2} + 0.0535515117174617 uc_{1} vc_{2} + 1.42218388155411 uc_{1} - 5.31271882640341 \\cdot 10^{-5} uc_{2}^{2} vc_{1} + 0.000214759803988549 uc_{2}^{2} + 5.41341104064278 \\cdot 10^{-5} uc_{2} vc_{1} vc_{2} + 0.00283803096388098 uc_{2} vc_{1} - 0.000217413353268625 uc_{2} vc_{2} - 0.0114726896304703 uc_{2} - 1.37900291980971 \\cdot 10^{-5} vc_{1} vc_{2}^{2} - 0.0014459101502987 vc_{1} vc_{2} - 0.037901590575046 vc_{1} + 5.50225856623577 \\cdot 10^{-5} vc_{2}^{2} + 0.00580722352234317 vc_{2} + 0.153220720093992$"
      ],
      "text/plain": [
       "5.1764350932e-5*a1**2*a2**2 - 4.83969885066e-5*a1**2*b2**2 + 5.1764350932e-5*a1**2*uc2**2 + 6.86208379554e-5*a1**2*uc2*vc2 - 0.00279226604888*a1**2*uc2 - 4.83969885066e-5*a1**2*vc2**2 - 0.001819072601984*a1**2*vc2 + 0.0376514847296*a1**2 + 5.1764350932e-5*a2**2*uc1**2 - 0.00049171225608*a2**2*uc1*vc1 + 0.00199327624734949*a2**2*uc1 - 5.31271882640341e-5*a2**2*vc1 + 0.000214759803988549*a2**2 - 4.83969885066e-5*b2**2*uc1**2 - 0.0001276319449602*b2**2*uc1*vc1 + 0.000504025810962726*b2**2*uc1 - 1.37900291980971e-5*b2**2*vc1 + 5.50225856623577e-5*b2**2 + 5.1764350932e-5*uc1**2*uc2**2 + 6.86208379554e-5*uc1**2*uc2*vc2 - 0.00279226604888*uc1**2*uc2 - 4.83969885066e-5*uc1**2*vc2**2 - 0.001819072601984*uc1**2*vc2 + 0.0376514847296*uc1**2 - 0.00049171225608*uc1*uc2**2*vc1 + 0.00199327624734949*uc1*uc2**2 + 0.000501031702008*uc1*uc2*vc1*vc2 + 0.0262670518368*uc1*uc2*vc1 - 0.00200482879989577*uc1*uc2*vc2 - 0.106485780440372*uc1*uc2 - 0.0001276319449602*uc1*vc1*vc2**2 - 0.01338244626384*uc1*vc1*vc2 - 0.350793580832*uc1*vc1 + 0.000504025810962726*uc1*vc2**2 + 0.0535515117174617*uc1*vc2 + 1.42218388155411*uc1 - 5.31271882640341e-5*uc2**2*vc1 + 0.000214759803988549*uc2**2 + 5.41341104064278e-5*uc2*vc1*vc2 + 0.00283803096388098*uc2*vc1 - 0.000217413353268625*uc2*vc2 - 0.0114726896304703*uc2 - 1.37900291980971e-5*vc1*vc2**2 - 0.0014459101502987*vc1*vc2 - 0.037901590575046*vc1 + 5.50225856623577e-5*vc2**2 + 0.00580722352234317*vc2 + 0.153220720093992"
      ]
     },
     "execution_count": 239,
     "metadata": {},
     "output_type": "execute_result"
    }
   ],
   "source": [
    "eqn2"
   ]
  }
 ],
 "metadata": {
  "kernelspec": {
   "display_name": "Python 3",
   "language": "python",
   "name": "python3"
  },
  "language_info": {
   "codemirror_mode": {
    "name": "ipython",
    "version": 3
   },
   "file_extension": ".py",
   "mimetype": "text/x-python",
   "name": "python",
   "nbconvert_exporter": "python",
   "pygments_lexer": "ipython3",
   "version": "3.8.3"
  }
 },
 "nbformat": 4,
 "nbformat_minor": 2
}
