{
 "cells": [
  {
   "cell_type": "code",
   "execution_count": 3,
   "metadata": {},
   "outputs": [
    {
     "name": "stdout",
     "output_type": "stream",
     "text": [
      "1279 1706\n",
      "1279 1706\n"
     ]
    }
   ],
   "source": [
    "import sympy as sy\n",
    "import numpy as np\n",
    "from numpy import linalg\n",
    "import cv2\n",
    "\n",
    "dir1 = \"./images/house1.JPG\"\n",
    "dir2 = \"./images/house2.JPG\"\n",
    "\n",
    "img1 = cv2.imread(dir1)\n",
    "img2 = cv2.imread(dir2)\n",
    "\n",
    "w1, h1 = img1.shape[:2]\n",
    "w2, h2 = img2.shape[:2]\n",
    "\n",
    "print(w1, h1)\n",
    "print(w2, h2)"
   ]
  },
  {
   "cell_type": "code",
   "execution_count": 4,
   "metadata": {},
   "outputs": [],
   "source": [
    "def calc_inside_param(F, e, p11, p12, p21, p22, calc_phase=\"f\"):\n",
    "    \"\"\"\n",
    "    F行列と画像のエピポールeからkruppa方程式よりカメラ内部パラメータ行列Aを算出する\n",
    "    ただし内部パラメータの未知の変数は2個という制限があるため、\n",
    "    A1 = [[f_u1,  0, c_u1],\n",
    "          [0,  f_v1, c_v1],\n",
    "          [0,     0,    1]]\n",
    "    A2 = [[f_u2,  0, c_u2],\n",
    "          [0,  f_v2, c_v2],\n",
    "          [0,     0,    1]]\n",
    "    のf, cのうち2つしか変数にすることができず、その他の6つの値は埋める必要がある\n",
    "    今回、f_u1 = f_v1 = f1, f_u2 = f_v2 = f2と仮定して\n",
    "    与える値を(p11, p12, p21, p22)の4つとしている\n",
    "    <calc_phase>\n",
    "    f: f1, f2を求める\n",
    "    c1: c_u1, c_v1を求める\n",
    "    c2: c_u2, c_v2を求める\n",
    "    \"\"\"\n",
    "\n",
    "    # a1, a2を求める\n",
    "    a1, a2 = sy.var('a1, a2')\n",
    "\n",
    "    # 焦点距離f1, f2を求める\n",
    "    if calc_phase == \"f\":\n",
    "        A1 = sy.Matrix([[a1, 0, p11], [0, a1, p12], [0, 0, 1]])\n",
    "\n",
    "        A2 = sy.Matrix([[a2, 0, p21],\n",
    "                        [0, a2, p22],\n",
    "                        [0, 0, 1]])\n",
    "\n",
    "        a1_name, a2_name = \"f1\", \"f2\"\n",
    "\n",
    "    # 画像1の中心座標(cu1, cv1)を求める\n",
    "    elif calc_phase == \"c1\":\n",
    "        A1 = sy.Matrix([[p11, 0, a1],\n",
    "                        [0, p11, a2],\n",
    "                        [0, 0, 1]])\n",
    "\n",
    "        A2 = sy.Matrix([[p12, 0, p21],\n",
    "                        [0, p12, p22],\n",
    "                        [0, 0, 1]])\n",
    "\n",
    "        a1_name, a2_name = \"cu1\", \"cv1\"\n",
    "\n",
    "    # 画像2の中心座標(cu2, cv2)を求める\n",
    "    elif calc_phase == \"c2\":\n",
    "        A1 = sy.Matrix([[p11, 0, p21],\n",
    "                        [0, p11, p22],\n",
    "                        [0, 0, 1]])\n",
    "\n",
    "        A2 = sy.Matrix([[p12, 0, a1],\n",
    "                        [0, p12, a2],\n",
    "                        [0, 0, 1]])\n",
    "\n",
    "        a1_name, a2_name = \"cu2\", \"cv2\"\n",
    "\n",
    "    # t\n",
    "    t = sy.var('t')\n",
    "    vec_t = sy.Matrix([1, t, 0])\n",
    "\n",
    "    # e, Fをsympyに変換\n",
    "    e = sy.Matrix([e[0], e[1], e[2]])\n",
    "    F = sy.Matrix([[F[0,0],F[0,1],F[0,2]], \n",
    "                    [F[1,0],F[1,1],F[1,2]], \n",
    "                    [F[2,0],F[2,1],F[2,2]]])\n",
    "\n",
    "    # eq1 = (e × t)^T * A1 * A1^T * (e1 × t) = 0\n",
    "    tmp1 = A1.transpose() * (e.cross(vec_t))\n",
    "    print(tmp1.transpose() * tmp1)\n",
    "    eq1 = sy.expand((tmp1.transpose() * tmp1)[0])\n",
    "    print(eq1)\n",
    "\n",
    "    # eq1からt^0, t^1, t^2の係数を取り出す\n",
    "    k10 = eq1.coeff(t, 0)\n",
    "    k11 = eq1.coeff(t, 1)\n",
    "    k12 = eq1.coeff(t, 2)\n",
    "\n",
    "    # eq2 = (F^T × t)^T * A2 * A2^T * (F^T × t) = 0\n",
    "    tmp2 = A2.transpose() * F.transpose() * vec_t\n",
    "    eq2 = sy.expand((tmp2.transpose() * tmp2)[0])\n",
    "    print(eq2)\n",
    "    \n",
    "    # eq2からt^0, t^1, t^2の係数を取り出す\n",
    "    k20 = eq2.coeff(t, 0)\n",
    "    k21 = eq2.coeff(t, 1)\n",
    "    k22 = eq2.coeff(t, 2)\n",
    "\n",
    "    # expr1 = k10*k21 - k11*k20\n",
    "    expr1 = sy.expand(k10*k21 - k11*k20)\n",
    "    # expr2 = k11*k22 - k21*k12\n",
    "    expr2 = sy.expand(k11*k22 - k21*k12)\n",
    "    print(\"expr1 = {}\".format(expr1))\n",
    "    print(\"expr2 = {}\".format(expr2))\n",
    "\n",
    "    # expr1 = expr2 = 0を解く(解はa1, a2)\n",
    "    ans = sy.solve([expr1, expr2], [a1, a2])\n",
    "    print(\"({}, {})=\\n{}\".format(a1_name, a2_name, ans))\n",
    "\n",
    "    return ans\n"
   ]
  },
  {
   "cell_type": "code",
   "execution_count": 5,
   "metadata": {},
   "outputs": [],
   "source": [
    "F = np.array([[-0.00165067, -0.00302917, 0.0224756], [0.0156798, -0.00798849, -0.209402], [0.00316947, 0.146741, -0.0588552]])"
   ]
  },
  {
   "cell_type": "code",
   "execution_count": null,
   "metadata": {},
   "outputs": [],
   "source": [
    "F = np.array([[1, 2, 3], [4, 5, 6], [0.00316947, 0.146741, -0.0588552]])"
   ]
  },
  {
   "cell_type": "code",
   "execution_count": 43,
   "metadata": {},
   "outputs": [],
   "source": [
    "F = np.array([[-4.64167338e-07,  5.16225960e-06, -1.15368358e-02], [-6.65035697e-06, -1.89664016e-07, -2.48445361e-02], [ 1.37332793e-02,  2.69508065e-02,  1.00000000e+00]])"
   ]
  },
  {
   "cell_type": "code",
   "execution_count": 6,
   "metadata": {},
   "outputs": [
    {
     "name": "stdout",
     "output_type": "stream",
     "text": [
      "[38.33338581  3.83334762  1.        ]\n"
     ]
    }
   ],
   "source": [
    "def calc_epipole(F):\n",
    "    \"\"\" F行列からエピポールeを算出 \"\"\"\n",
    "\n",
    "    # Fを特異値分解\n",
    "    D, V = linalg.eig(np.dot(F, F.T))\n",
    "\n",
    "    eig_vals_sorted = np.sort(np.absolute(D))\n",
    "    eig_vecs_sorted = V.T[D.argsort()]\n",
    "    # Vから固有値最小の固有ベクトルを取り出す\n",
    "    fvec = eig_vecs_sorted[0]\n",
    "\n",
    "    return fvec / fvec[2]\n",
    "\n",
    "e1 = calc_epipole(F)\n",
    "\n",
    "print(e1)"
   ]
  },
  {
   "cell_type": "code",
   "execution_count": 7,
   "metadata": {},
   "outputs": [
    {
     "name": "stdout",
     "output_type": "stream",
     "text": [
      "Matrix([[1.0*a1**2*t**2 + 1.0*a1**2 + 1469.44846772793*(t - 0.100000235912174)**2]])\n",
      "1.0*a1**2*t**2 + 1.0*a1**2 + 1469.44846772793*t**2 - 293.890386867152*t + 14.6945540095176\n",
      "0.0003096721005201*a2**2*t**2 - 3.3673624254e-6*a2**2*t + 1.19005823378e-5*a2**2 + 0.043849197604*t**2 - 0.0094128711824*t + 0.00050515259536\n",
      "expr1 = -3.3673624254e-6*a1**2*a2**2 - 0.0094128711824*a1**2 + 0.00344798485817078*a2**2 + 0.0101415477028874\n",
      "expr2 = 3.3673624254e-6*a1**2*a2**2 + 0.0094128711824*a1**2 - 0.0860614878675271*a2**2 + 0.944871488244356\n",
      "(f1, f2)=\n",
      "[(-2.30000646050684, -3.40000167534009), (-2.30000646050684, 3.40000167534009), (2.30000646050684, -3.40000167534009), (2.30000646050684, 3.40000167534009)]\n"
     ]
    }
   ],
   "source": [
    "\n",
    "# cu1,cv1 = calc_inside_param(F, e1, w1/2, h1/2, w2/2, h2/2, \"c1\")\n",
    "# f_res = calc_inside_param(F, e1, w1/2, h1/2, w2/2, h2/2, \"f\")\n",
    "f_res = calc_inside_param(F, e1, 0, 0, 0, 0, \"f\")\n",
    "f1, f2 = f_res[-1]"
   ]
  },
  {
   "cell_type": "code",
   "execution_count": 56,
   "metadata": {},
   "outputs": [
    {
     "name": "stdout",
     "output_type": "stream",
     "text": [
      "Matrix([[5.29002971837321*t**2 + 1469.44846772793*(-0.0260869208092607*a1*t + 0.0260869208092607*a2 + t - 0.100000235912174)**2 + 5.29002971837321]])\n",
      "1.0*a1**2*t**2 - 2.0*a1*a2*t - 76.6667716218163*a1*t**2 + 7.66669524880639*a1*t + 1.0*a2**2 + 76.6667716218163*a2*t - 7.66669524880639*a2 + 1474.73849744631*t**2 - 293.890386867152*t + 19.9845837278908\n",
      "0.0474290106138946*t**2 - 0.00945179793039968*t + 0.000642723462760156\n",
      "expr1 = 0.00128544692552031*a1*a2 - 0.00492756491823968*a1 - 0.00945179793039968*a2**2 + 0.0231885213502575*a2 - 2.77555756156289e-17\n",
      "expr2 = 0.00945179793039968*a1**2 - 0.0948580212277892*a1*a2 - 0.361015063016374*a1 + 3.63622912498416*a2 + 1.77635683940025e-15\n",
      "(cu1, cv1)=\n",
      "[(-1.48870225023989e-14, -1.96654170032839e-15), (76.6667716218168, 7.66669524880646), (38.3333858109082 - 0.228452948290566*I, 3.83334762440319 + 2.28452409343421*I), (38.3333858109082 + 0.228452948290566*I, 3.83334762440319 - 2.28452409343421*I)]\n"
     ]
    }
   ],
   "source": [
    "points = calc_inside_param(F, e1, f1, f2, 0, 0, \"c1\")"
   ]
  },
  {
   "cell_type": "code",
   "execution_count": 50,
   "metadata": {},
   "outputs": [
    {
     "data": {
      "text/plain": [
       "(1054.52319749964*I, 947.29995111495*I)"
      ]
     },
     "execution_count": 50,
     "metadata": {},
     "output_type": "execute_result"
    }
   ],
   "source": [
    "f1, f2\n"
   ]
  },
  {
   "cell_type": "code",
   "execution_count": 71,
   "metadata": {},
   "outputs": [
    {
     "data": {
      "text/latex": [
       "$\\displaystyle 1.71226052963841$"
      ],
      "text/plain": [
       "1.71226052963841"
      ]
     },
     "execution_count": 71,
     "metadata": {},
     "output_type": "execute_result"
    }
   ],
   "source": [
    "\n"
   ]
  }
 ],
 "metadata": {
  "interpreter": {
   "hash": "a8f61be024eba58adef938c9aa1e29e02cb3dece83a5348b1a2dafd16a070453"
  },
  "kernelspec": {
   "display_name": "Python 3.9.12 ('base')",
   "language": "python",
   "name": "python3"
  },
  "language_info": {
   "codemirror_mode": {
    "name": "ipython",
    "version": 3
   },
   "file_extension": ".py",
   "mimetype": "text/x-python",
   "name": "python",
   "nbconvert_exporter": "python",
   "pygments_lexer": "ipython3",
   "version": "3.9.12"
  },
  "orig_nbformat": 4
 },
 "nbformat": 4,
 "nbformat_minor": 2
}
