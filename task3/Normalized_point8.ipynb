{
 "cells": [
  {
   "cell_type": "code",
   "execution_count": 2,
   "id": "a17aa5b1",
   "metadata": {},
   "outputs": [],
   "source": [
    "import numpy as np\n",
    "import cv2\n",
    "from numpy import linalg\n",
    "\n",
    "dir1 = \"./images/bottle1.JPG\"\n",
    "dir2 = \"./images/bottle2.JPG\"\n",
    "\n",
    "img1 = cv2.imread(dir1)\n",
    "img2 = cv2.imread(dir2)"
   ]
  },
  {
   "cell_type": "code",
   "execution_count": 3,
   "id": "4ac14efc",
   "metadata": {},
   "outputs": [],
   "source": [
    "def get_points(img1,img2):\n",
    "    # from each image select 8points\n",
    "    points1 = []\n",
    "    points2 = []\n",
    "\n",
    "    def OnMouseAction1(event,x,y,flags,param):\n",
    "\n",
    "        if event == cv2.EVENT_LBUTTONDOWN:\n",
    "            print(\"from camera1:(%s,%s)\"%(x,y))\n",
    "            points1.append([x,y])\n",
    "        elif event==cv2.EVENT_RBUTTONDOWN :\n",
    "            print(\"camera1 finish\")\n",
    "            cv2.destroyWindow(\"image1\")\n",
    "            \n",
    "    def OnMouseAction2(event,x,y,flags,param):\n",
    "\n",
    "        if event == cv2.EVENT_LBUTTONDOWN:\n",
    "            print(\"from camera2:(%s,%s)\"%(x,y))\n",
    "            points2.append([x,y])\n",
    "        elif event==cv2.EVENT_RBUTTONDOWN :\n",
    "            print(\"camera2 finish\")\n",
    "            cv2.destroyWindow(\"image2\")\n",
    "\n",
    "\n",
    "    cv2.namedWindow(\"image1\",cv2.WINDOW_NORMAL)\n",
    "    cv2.resizeWindow(\"image1\", 540, 480)\n",
    "    cv2.setMouseCallback('image1',OnMouseAction1)     \n",
    "    cv2.namedWindow(\"image2\",cv2.WINDOW_NORMAL)\n",
    "    cv2.resizeWindow(\"image2\", 540, 480)\n",
    "    cv2.setMouseCallback('image2',OnMouseAction2)\n",
    "    cv2.imshow('image1',img1)\n",
    "    cv2.imshow('image2',img2)\n",
    "    cv2.waitKey(80000)\n",
    "    \n",
    "         \n",
    "    \n",
    "    return (np.array(points1),np.array(points2))"
   ]
  },
  {
   "cell_type": "code",
   "execution_count": 4,
   "id": "69451911",
   "metadata": {},
   "outputs": [],
   "source": [
    "def normalization(pts):\n",
    "    # Normalizing the input points #\n",
    "    # Find the centroid of the points (find the mean x and mean y value)\n",
    "    centroid = np.array([np.mean(pts[:, 0]), np.mean(pts[:, 1])])\n",
    "\n",
    "    # Compute the mean distance of all the points from this centroid\n",
    "    distance = 0\n",
    "    for index in range(pts[:, 0].size):\n",
    "        distance += np.linalg.norm(centroid - pts[index, :])\n",
    "    meanDistance = distance / pts[:, 0].size\n",
    "\n",
    "    # Construct a 3 by 3 matrix that would translate the points so that the mean distance would be sqrt(2)\n",
    "    T = np.array([[np.sqrt(2) / meanDistance, 0, -centroid[0] * np.sqrt(2) / meanDistance],\n",
    "                  [0, np.sqrt(2) / meanDistance, -centroid[1] * np.sqrt(2) / meanDistance],\n",
    "                  [0, 0, 1]])\n",
    "\n",
    "    # Normalize points\n",
    "    result = np.ones((pts[:, 0].size, 2), dtype=float)\n",
    "    for index in range(pts[:, 0].size):\n",
    "        current = np.dot(T, np.array([pts[index, 0], pts[index, 1], 1]))\n",
    "        # we are only interested in x & y\n",
    "        result[index, 0] = current[0]\n",
    "        result[index, 1] = current[1]\n",
    "\n",
    "    return result, T"
   ]
  },
  {
   "cell_type": "code",
   "execution_count": null,
   "id": "f9666ecb",
   "metadata": {},
   "outputs": [],
   "source": [
    "def calc_epipole(F):\n",
    "    \"\"\" F行列からエピポールeを算出 \"\"\"\n",
    "\n",
    "    # Fを特異値分解\n",
    "    U, D, V = linalg.svd(F)\n",
    "    # Vから固有値最小の固有ベクトルを取り出す\n",
    "    fvec = V[2]\n",
    "\n",
    "    return fvec / fvec[2]\n"
   ]
  },
  {
   "cell_type": "code",
   "execution_count": 5,
   "id": "5f877997",
   "metadata": {},
   "outputs": [],
   "source": [
    "def FM_by_normalized_8_point(pts1, pts2):\n",
    "    # F, _ = cv2.findFundamentalMat(pts1, pts2, cv2.FM_8POINT)\n",
    "    # comment out the above line of code.\n",
    "\n",
    "    # Normalizing points\n",
    "    normalizedPts1, T1 = normalization(pts1)\n",
    "    normalizedPts2, T2 = normalization(pts2)\n",
    "\n",
    "    print(normalizedPts1)\n",
    "    print(normalizedPts1.shape)\n",
    "\n",
    "    u1 = normalizedPts1[:, 0]\n",
    "    v1 = normalizedPts1[:, 1]\n",
    "    u2 = normalizedPts2[:, 0]\n",
    "    v2 = normalizedPts2[:, 1]\n",
    "    ones = np.ones(normalizedPts1[:, 0].size, int)\n",
    "\n",
    "    # Create the constraint matrix\n",
    "    A = np.array([u1 * u2, u1 * v2, u1, v1 * u2, v1 * v2, v1, u2, v2, ones]).transpose()\n",
    "    print(A.shape)\n",
    "    U, D, V = np.linalg.svd(A)\n",
    "\n",
    "    # Reference: https://www.coursera.org/lecture/robotics-perception/epipolar-geometry-ii-WRyoL #\n",
    "    # Extract fundamental matrix from the column of V corresponding to the smallest singular value\n",
    "    FMatrix = np.reshape(V.transpose()[:, 8], (3, 3)).transpose()\n",
    "    print(FMatrix)\n",
    "    # Enforce rank2 constraint\n",
    "    U, D, V = np.linalg.svd(FMatrix)\n",
    "    FMatrix = U @ np.diag(np.array([D[0], D[1], 0])) @ V\n",
    "    print(FMatrix)\n",
    "    # De-normalize\n",
    "    FMatrix = T2.transpose() @ FMatrix @ T1\n",
    "    print(FMatrix)\n",
    "    ##############################################################################################\n",
    "\n",
    "    # normalize the fundamental matrix so that the value on [2, 2] is 1\n",
    "    FMatrix = np.true_divide(FMatrix, FMatrix[2, 2])\n",
    "    print(FMatrix.shape)\n",
    "    print(pts1.shape)\n",
    "    \n",
    "    _,eig_list_e1 = linalg.eig(np.dot(FMatrix.T,FMatrix))\n",
    "    e1 = eig_list_e1.T[-1]/eig_list_e1.T[-1][2]\n",
    "    _,eig_list_e2 = linalg.eig(np.dot(FMatrix,FMatrix.T))\n",
    "    e2 = eig_list_e2.T[-1]/eig_list_e2.T[-1][2]\n",
    "    \n",
    "    return (FMatrix, e1, e2)"
   ]
  },
  {
   "cell_type": "code",
   "execution_count": 6,
   "id": "6cedddee",
   "metadata": {},
   "outputs": [],
   "source": [
    "def draw_lines(point1,point2,e1,e2,dir1,dir2):\n",
    "    one = np.ones((len(point1),1),\"float\")\n",
    "    point1_ = np.concatenate((point1, one),axis=1)\n",
    "    point2_ = np.concatenate((point2, one),axis=1)\n",
    "    line1 = []\n",
    "    line2 = []\n",
    "    i = 0\n",
    "    j = 0\n",
    "    \n",
    "    for p1 , p2 in zip(point1_,point2_):\n",
    "        line1.append(np.cross(e1, p1))\n",
    "        line2.append(np.cross(e2, p2))\n",
    "        \n",
    "    \n",
    "    cv2.namedWindow('epilines1',cv2.WINDOW_AUTOSIZE)\n",
    "    img1 = cv2.imread(dir1)\n",
    "    for l1,p1 in zip(line1,point1):\n",
    "        i += 1\n",
    "        aa = tuple(p1.tolist())\n",
    "        print(\"circle\")\n",
    "        cv2.circle(img1, aa, 15, (255,0,16), -1)\n",
    "        cv2.putText(img1,'%s'%i,(p1[0],p1[1]+10),cv2.FONT_HERSHEY_COMPLEX,3,(0,0,255),9)\n",
    "        cv2.line(img1, (15, int(-l1[2] / l1[1])),(img1.shape[1], int(-(l1[2] + l1[0] * img1.shape[1]) / l1[1])),(0,255,0),5)\n",
    "    cv2.imshow('epilines1',img1)\n",
    "    cv2.imwrite(\"./result/2-1_lines.jpg\", img1)\n",
    "    cv2.waitKey(0)\n",
    "    \n",
    "    \n",
    "    cv2.namedWindow('epilines2',cv2.WINDOW_AUTOSIZE)\n",
    "    img2 = cv2.imread(dir2)\n",
    "    for l2,p2 in zip(line2,point2):\n",
    "        j += 1\n",
    "        bb = tuple(p2.tolist())\n",
    "        cv2.circle(img2, bb, 15, (255,0,16), -1)\n",
    "        cv2.putText(img2,'%s'%j,(p2[0],p2[1]+10),cv2.FONT_HERSHEY_COMPLEX,3,(0,0,255),9)\n",
    "        cv2.line(img2, (0, int(-l2[2] / l2[1])),(img2.shape[1], int(-(l2[2] + l2[0] * img2.shape[1]) / l2[1])), (0,255,0),5)\n",
    "    cv2.imshow('epilines2',img2)\n",
    "    cv2.imwrite(\"./result/2-2_lines.jpg\", img2)\n",
    "    cv2.waitKey(0)"
   ]
  },
  {
   "cell_type": "code",
   "execution_count": 7,
   "id": "989d450b",
   "metadata": {},
   "outputs": [
    {
     "name": "stdout",
     "output_type": "stream",
     "text": [
      "from camera1:(299,1903)\n",
      "from camera2:(500,2054)\n",
      "from camera1:(1008,296)\n",
      "from camera2:(1142,346)\n",
      "from camera1:(343,2432)\n",
      "from camera2:(553,2614)\n",
      "from camera1:(1396,2230)\n",
      "from camera2:(1590,2293)\n",
      "from camera1:(732,850)\n",
      "from camera2:(911,914)\n",
      "from camera1:(3957,1128)\n",
      "from camera2:(3927,1109)\n",
      "from camera1:(3853,2236)\n",
      "from camera2:(3868,2123)\n",
      "from camera1:(963,2520)\n",
      "from camera2:(1254,2633)\n",
      "camera1 finish\n",
      "camera2 finish\n",
      "[[ 299 1903]\n",
      " [1008  296]\n",
      " [ 343 2432]\n",
      " [1396 2230]\n",
      " [ 732  850]\n",
      " [3957 1128]\n",
      " [3853 2236]\n",
      " [ 963 2520]]\n",
      "[[ 500 2054]\n",
      " [1142  346]\n",
      " [ 553 2614]\n",
      " [1590 2293]\n",
      " [ 911  914]\n",
      " [3927 1109]\n",
      " [3868 2123]\n",
      " [1254 2633]]\n"
     ]
    }
   ],
   "source": [
    "points1,points2 = get_points(img1,img2)\n",
    "print(points1)\n",
    "print(points2)\n"
   ]
  },
  {
   "cell_type": "code",
   "execution_count": 14,
   "id": "bb10c019",
   "metadata": {},
   "outputs": [
    {
     "name": "stdout",
     "output_type": "stream",
     "text": [
      "[[-1.21776096  0.19526849]\n",
      " [-0.53785741 -1.34578229]\n",
      " [-1.17556667  0.70255901]\n",
      " [-0.16578043  0.50884883]\n",
      " [-0.80253073 -0.81451774]\n",
      " [ 2.29011942 -0.5479265 ]\n",
      " [ 2.19038745  0.5146026 ]\n",
      " [-0.58101067  0.7869476 ]]\n",
      "(8, 2)\n",
      "(8, 9)\n",
      "[[ 0.00553407 -0.10337977  0.06789294]\n",
      " [ 0.13372211  0.00379     0.68451432]\n",
      " [-0.02381789 -0.70541417  0.00634581]]\n",
      "[[ 0.00930778 -0.10351688  0.06715859]\n",
      " [ 0.13335715  0.00380326  0.68458535]\n",
      " [-0.02437366 -0.70539398  0.00645396]]\n",
      "[[ 8.84804121e-09 -9.84039201e-08  2.19917237e-04]\n",
      " [ 1.26770300e-07  3.61540956e-09  4.73591011e-04]\n",
      " [-2.61786238e-04 -5.13741116e-04 -1.90621797e-02]]\n",
      "(3, 3)\n",
      "(8, 2)\n",
      "[[-4.64167338e-07  5.16225960e-06 -1.15368358e-02]\n",
      " [-6.65035697e-06 -1.89664016e-07 -2.48445361e-02]\n",
      " [ 1.37332793e-02  2.69508065e-02  1.00000000e+00]]\n",
      "[-14.79088834 -29.59545443   1.        ] [15.60267296 33.04177914  1.        ]\n"
     ]
    }
   ],
   "source": [
    "F, e1, e2 = FM_by_normalized_8_point(points1,points2)\n",
    "\n",
    "print(F)\n",
    "print(e1, e2)"
   ]
  },
  {
   "cell_type": "code",
   "execution_count": 15,
   "id": "60e3fcd8",
   "metadata": {},
   "outputs": [],
   "source": [
    "F2, _ = cv2.findFundamentalMat(points1, points2, cv2.FM_8POINT)"
   ]
  },
  {
   "cell_type": "code",
   "execution_count": 16,
   "id": "977229ff",
   "metadata": {},
   "outputs": [
    {
     "name": "stdout",
     "output_type": "stream",
     "text": [
      "[[-4.64167338e-07  5.16225960e-06 -1.15368358e-02]\n",
      " [-6.65035697e-06 -1.89664016e-07 -2.48445361e-02]\n",
      " [ 1.37332793e-02  2.69508065e-02  1.00000000e+00]]\n"
     ]
    }
   ],
   "source": [
    "print(F2)"
   ]
  },
  {
   "cell_type": "code",
   "execution_count": 18,
   "id": "d49cf054",
   "metadata": {},
   "outputs": [
    {
     "name": "stdout",
     "output_type": "stream",
     "text": [
      "[[-4.0780734e-02 -9.9916810e-01  2.2119253e+03]\n",
      " [-3.0156019e-01 -9.5344716e-01  7.6288940e+02]\n",
      " [ 5.8505591e-02 -9.9828708e-01  2.7192988e+03]\n",
      " [-1.2209908e-02 -9.9992543e-01  2.3603774e+03]\n",
      " [-2.2693940e-01 -9.7390890e-01  1.1954048e+03]\n",
      " [-1.4756635e-01 -9.8905218e-01  1.6394194e+03]\n",
      " [-4.6500985e-02 -9.9891824e-01  2.1819651e+03]\n",
      " [ 4.3698601e-02 -9.9904478e-01  2.6451497e+03]]\n"
     ]
    }
   ],
   "source": [
    "lines1 = cv2.computeCorrespondEpilines(points2.reshape(-1, 1, 2), 1, F)\n",
    "lines1 = lines1.reshape(-1, 3)\n",
    "\n",
    "print(lines1)"
   ]
  },
  {
   "cell_type": "code",
   "execution_count": 12,
   "id": "326e2ac4",
   "metadata": {},
   "outputs": [],
   "source": [
    "# draw_lines(points1,points2,e1,e2,dir1,dir2)"
   ]
  },
  {
   "cell_type": "code",
   "execution_count": 17,
   "id": "9e7bc78e",
   "metadata": {},
   "outputs": [
    {
     "data": {
      "text/plain": [
       "True"
      ]
     },
     "execution_count": 17,
     "metadata": {},
     "output_type": "execute_result"
    }
   ],
   "source": [
    "lines1 = cv2.computeCorrespondEpilines(points2.reshape(-1, 1, 2), 2, F)\n",
    "lines1 = lines1.reshape(-1, 3)\n",
    "\n",
    "\n",
    "lines2 = cv2.computeCorrespondEpilines(points1.reshape(-1, 1, 2), 1, F)\n",
    "lines2 = lines2.reshape(-1, 3)\n",
    "\n",
    "\n",
    "def drawlines_new(img1, img2, lines, pts1, pts2):\n",
    "    ''' img1 - image on which we draw the epilines for the points in img2\n",
    "        lines - corresponding epilines '''\n",
    "    r = img1.shape[0]\n",
    "    c = img1.shape[1]\n",
    "    i = 0\n",
    "    # img1 = cv2.cvtColor(img1, cv2.COLOR_RGB2GRAY)\n",
    "    # img2 = cv2.cvtColor(img2, cv2.COLOR_RGB2GRAY)\n",
    "    for r, pt1, pt2 in zip(lines, pts1, pts2):\n",
    "        i += 1\n",
    "        color = tuple(np.random.randint(0, 255, 3).tolist())\n",
    "        x0, y0 = map(int, [0, -r[2] / r[1]])\n",
    "        x1, y1 = map(int, [c, -(r[2] + r[0] * c) / r[1]])\n",
    "        cv2.putText(img1, '%s' % i, (pt1[0], pt1[1]+10), cv2.FONT_HERSHEY_COMPLEX, 3, (0, 0, 255), 9)\n",
    "        img1 = cv2.line(img1, (x0, y0), (x1, y1), color, 4)\n",
    "        img1 = cv2.circle(img1, tuple(pt1), 12, color, -1)\n",
    "        img2 = cv2.circle(img2, tuple(pt2), 12, color, -1)\n",
    "    return img1, img2\n",
    "\n",
    "\n",
    "line_img1, line_img2 = drawlines_new(img1, img2, lines1, points1, points2)\n",
    "line_img3, line_img4 = drawlines_new(img2, img1, lines2, points2, points1)\n",
    "\n",
    "cv2.imwrite(\"./result/lines1.jpg\", line_img1)\n",
    "# cv2.imwrite(\"./result/lines2.jpg\", line_img2)\n",
    "cv2.imwrite(\"./result/lines2.jpg\", line_img3)\n",
    "# cv2.imwrite(\"./result/lines4.jpg\", line_img4)\n"
   ]
  },
  {
   "cell_type": "code",
   "execution_count": null,
   "id": "898201c8",
   "metadata": {},
   "outputs": [],
   "source": [
    "U,sigma,VT = linalg.svd(F)\n",
    "sigma_mat = np.array([[sigma[0],0,0],[0,sigma[1],0],[0,0,0]])\n",
    "F_2 = np.dot(np.dot(U,sigma_mat),VT)"
   ]
  }
 ],
 "metadata": {
  "kernelspec": {
   "display_name": "Python 3 (ipykernel)",
   "language": "python",
   "name": "python3"
  },
  "language_info": {
   "codemirror_mode": {
    "name": "ipython",
    "version": 3
   },
   "file_extension": ".py",
   "mimetype": "text/x-python",
   "name": "python",
   "nbconvert_exporter": "python",
   "pygments_lexer": "ipython3",
   "version": "3.9.12"
  }
 },
 "nbformat": 4,
 "nbformat_minor": 5
}
